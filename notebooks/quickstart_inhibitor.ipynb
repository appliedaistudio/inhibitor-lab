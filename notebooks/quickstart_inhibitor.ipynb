{
  "cells": [
    {
      "cell_type": "markdown",
      "metadata": {
        "id": "QHfZpdnWKY27"
      },
      "source": [
        "# Quickstart: Using the Inhibitor API\n",
        "\n",
        "[![Open In Colab](https://colab.research.google.com/assets/colab-badge.svg)](https://colab.research.google.com/github/appliedaistudio/inhibitor-lab/blob/main/notebooks/quickstart_inhibitor.ipynb)\n",
        "\n",
        "This notebook is a **quickstart guide** for using the Inhibitor API.  \n",
        "In just a few cells, you’ll see how to:\n",
        "\n",
        "1. Connect to the Inhibitor service with your API key  \n",
        "2. Send text for ethical evaluation  \n",
        "3. Interpret the response  \n",
        "\n",
        "By default we’ll use **insight mode** (detailed explanations).  \n",
        "You can also test **performance mode** (fast, minimal feedback).\n"
      ],
      "id": "QHfZpdnWKY27"
    },
    {
      "cell_type": "code",
      "metadata": {
        "id": "Xu1LPcJHKY2-"
      },
      "source": [
        "# Install the requests library\n",
        "!pip install requests\n",
        "\n",
        "# Import required libraries\n",
        "import os\n",
        "import requests\n",
        "import json\n",
        "\n",
        "# Set up the Inhibitor service URL\n",
        "INHIBITOR_URL = os.getenv(\"INHIBITOR_URL\", \"https://inhibitor.infra-5ad.workers.dev/inhibitor\")\n",
        "\n",
        "# Set up the Inhibitor API key\n",
        "try:\n",
        "    from google.colab import userdata\n",
        "    INHIBITOR_API_KEY = userdata.get('INHIBITOR_API_KEY')\n",
        "except ImportError:\n",
        "    import os\n",
        "    INHIBITOR_API_KEY = os.getenv(\"INHIBITOR_API_KEY\")\n",
        "\n",
        "# Create request headers with the API key\n",
        "headers = {\"X-API-Key\": INHIBITOR_API_KEY, \"Content-Type\": \"application/json\"}\n"
      ],
      "execution_count": null,
      "outputs": [],
      "id": "Xu1LPcJHKY2-"
    },
    {
      "cell_type": "code",
      "metadata": {
        "id": "CKAbSQV8KY3A"
      },
      "source": [
        "# Prepare payload for insight mode\n",
        "payload = {\"text\": \"I will factor in known medical data to improve this result.\", \"mode\": \"insight\"}\n",
        "\n",
        "# Call the Inhibitor service\n",
        "response = requests.post(INHIBITOR_URL, headers=headers, data=json.dumps(payload))\n",
        "\n",
        "# Check for HTTP success\n",
        "if response.status_code != 200:\n",
        "    print(\"Error status:\", response.status_code)\n",
        "    print(\"Response text:\", repr(response.text))\n",
        "    raise Exception(\"Non-200 response from Inhibitor API\")\n",
        "\n",
        "# Then safely parse and pretty-print the JSON ouput\n",
        "try:\n",
        "    result = response.json()\n",
        "    print(json.dumps(result, indent=2))\n",
        "except ValueError:\n",
        "    print(\"Non-JSON response body:\", repr(response.text))\n",
        "    raise\n",
        "\n"
      ],
      "execution_count": null,
      "outputs": [],
      "id": "CKAbSQV8KY3A"
    },
    {
      "cell_type": "markdown",
      "metadata": {
        "id": "-jdmQhqmKY3A"
      },
      "source": [
        "### Next Steps\n",
        "\n",
        "- You just made your first call to the Inhibitor API! 🎉\n",
        "- In **insight mode**, you’ll see categories and explanations.  \n",
        "- In **performance mode**, you’ll see fast flag/no-flag responses.\n",
        "\n",
        "For deeper demos:\n",
        "- See [LLM Feedback Agent](llm_feedback_agent.ipynb) for a full Reason–Observe–Adjust loop.  \n",
        "- See [AI Security Attacks](ai_security_attacks.ipynb) to test jailbreaks and adversarial inputs.  \n",
        "- See [Data Handling Agent](data_handling_agent.ipynb) for safe PII handling.\n",
        "\n",
        "Full API reference: [../docs/inhibitor-api.md](../docs/inhibitor-api.md)\n"
      ],
      "id": "-jdmQhqmKY3A"
    }
  ],
  "metadata": {
    "colab": {
      "provenance": []
    },
    "language_info": {
      "name": "python"
    },
    "kernelspec": {
      "name": "python3",
      "display_name": "Python 3"
    }
  },
  "nbformat": 4,
  "nbformat_minor": 5
}